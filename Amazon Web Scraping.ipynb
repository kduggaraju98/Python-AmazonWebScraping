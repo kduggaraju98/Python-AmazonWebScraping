{
 "cells": [
  {
   "cell_type": "markdown",
   "id": "b844c255-451e-4053-9739-786d3f0ecd0f",
   "metadata": {},
   "source": [
    "Amazon Web Scraping Using Python"
   ]
  },
  {
   "cell_type": "code",
   "execution_count": 5,
   "id": "290b1153-de0d-438c-880d-3b6d3a5e291c",
   "metadata": {},
   "outputs": [],
   "source": [
    "#import Libraries\n",
    "\n",
    "from bs4 import BeautifulSoup\n",
    "import requests\n",
    "import time\n",
    "import datetime\n",
    "\n",
    "import smtplib"
   ]
  },
  {
   "cell_type": "code",
   "execution_count": null,
   "id": "dfe58d22-2752-4c2d-862b-73c4416035a5",
   "metadata": {},
   "outputs": [],
   "source": [
    "#Connect to the website\n",
    "URL=\"https://www.amazon.com/Sew-Butiful-Stuffed-Animals-Plushies/dp/B0B1YQMP6R/ref=sxin_16_pa_sp_search_thematic_sspa?content-id=amzn1.sym.76d54fcc-2362-404d-ab9b-b0653e2b2239%3Aamzn1.sym.76d54fcc-2362-404d-ab9b-b0653e2b2239&crid=13N25ZNK17ET9&cv_ct_cx=panda%2Btoy&dib=eyJ2IjoiMSJ9.x4QW2PlM6ttGQjJ7EbNcMVvKEpDGGq1Pe4W6MfUJ_2FkGTXZt7qyPnNfq30pA03wcozDxeZM8aFNbpEh00Cnkg.qNRFjA_taYQLSHppqZwrL_sfuPEPieRfL-hJAvzphfA&dib_tag=se&keywords=panda%2Btoy&pd_rd_i=B0B1YQMP6R&pd_rd_r=e94745c4-9805-4ea0-ba2c-8a31be86aa45&pd_rd_w=3OKUY&pd_rd_wg=pk0Oy&pf_rd_p=76d54fcc-2362-404d-ab9b-b0653e2b2239&pf_rd_r=1N81DZ3AFK0YAGP7T1TF&qid=1730934555&sbo=RZvfv%2F%2FHxDF%2BO5021pAnSA%3D%3D&sprefix=panda%2Btoy%2Caps%2C94&sr=1-2-6024b2a3-78e4-4fed-8fed-e1613be3bcce-spons&sp_csd=d2lkZ2V0TmFtZT1zcF9zZWFyY2hfdGhlbWF0aWM&th=1\"\n",
    "\n",
    "# Headers\n",
    "headers= {\"User-Agent\": \"Mozilla/5.0 (Windows NT 10.0; Win64; x64) AppleWebKit/537.36 (KHTML, like Gecko) Chrome/78.0.3904.108 Safari/537.36\", \"Accept-Encoding\":\"gzip, deflate\", \"Accept\":\"text/html,application/xhtml+xml,application/xml;q=0.9,*/*;q=0.8\", \"DNT\":\"1\",\"Connection\":\"close\", \"Upgrade-Insecure-Requests\":\"1\"}\n",
    "\n",
    "#Start Using libraries\n",
    "page = requests.get(URL, headers=headers)\n",
    "\n",
    "soup1 = BeautifulSoup(page.content, \"html.parser\")\n",
    "#print(soup1.prettify()[:1000000])\n",
    "\n",
    "title= soup1.find(id='productTitle').get_text(strip=True)\n",
    "price_symbol = soup1.find(class_='a-price-symbol').get_text(strip=True)\n",
    "price_whole = soup1.find(class_='a-price-whole').get_text(strip=True)\n",
    "price_fraction = soup1.find(class_='a-price-fraction').get_text(strip=True)\n",
    "price = f'{price_symbol}{price_whole}{price_fraction}'\n",
    "\n",
    "print(title)\n",
    "print(price)\n",
    "\n"
   ]
  },
  {
   "cell_type": "code",
   "execution_count": null,
   "id": "dc869d78-2867-4210-a27a-2eea30b05862",
   "metadata": {},
   "outputs": [],
   "source": [
    "import datetime\n",
    "today = datetime.date.today()\n",
    "\n",
    "print(today)"
   ]
  },
  {
   "cell_type": "code",
   "execution_count": null,
   "id": "6f097a00-ea76-44ac-8b3c-2805fa0b3230",
   "metadata": {},
   "outputs": [],
   "source": [
    "#Creating a CSV to insert the Data\n",
    "\n",
    "import csv\n",
    "header= ['Title','Price','Data']\n",
    "data= [title,price,today]\n",
    "\n",
    "with open('AmazonDataset.csv', 'w', newline='',encoding='UTF8') as f:\n",
    "    writer=csv.writer(f)\n",
    "    writer.writerow(header)\n",
    "    writer.writerow(data)\n"
   ]
  },
  {
   "cell_type": "code",
   "execution_count": 13,
   "id": "51111bf1-d6b5-41e0-9574-8b559e10bb3b",
   "metadata": {},
   "outputs": [
    {
     "data": {
      "text/html": [
       "<div>\n",
       "<style scoped>\n",
       "    .dataframe tbody tr th:only-of-type {\n",
       "        vertical-align: middle;\n",
       "    }\n",
       "\n",
       "    .dataframe tbody tr th {\n",
       "        vertical-align: top;\n",
       "    }\n",
       "\n",
       "    .dataframe thead th {\n",
       "        text-align: right;\n",
       "    }\n",
       "</style>\n",
       "<table border=\"1\" class=\"dataframe\">\n",
       "  <thead>\n",
       "    <tr style=\"text-align: right;\">\n",
       "      <th></th>\n",
       "      <th>Title</th>\n",
       "      <th>Price</th>\n",
       "      <th>Data</th>\n",
       "    </tr>\n",
       "  </thead>\n",
       "  <tbody>\n",
       "    <tr>\n",
       "      <th>0</th>\n",
       "      <td>Sew Butiful 8.6\" Panda Stuffed Animals Plush, ...</td>\n",
       "      <td>$11.99</td>\n",
       "      <td>2024-11-19</td>\n",
       "    </tr>\n",
       "  </tbody>\n",
       "</table>\n",
       "</div>"
      ],
      "text/plain": [
       "                                               Title   Price        Data\n",
       "0  Sew Butiful 8.6\" Panda Stuffed Animals Plush, ...  $11.99  2024-11-19"
      ]
     },
     "execution_count": 13,
     "metadata": {},
     "output_type": "execute_result"
    }
   ],
   "source": [
    "import pandas as pd\n",
    "df= pd.read_csv(r'C:\\Users\\kedugga\\AmazonDataset.csv')\n",
    "df"
   ]
  },
  {
   "cell_type": "code",
   "execution_count": 15,
   "id": "810d6974-ee97-46a8-be82-a6bcd1f3f456",
   "metadata": {},
   "outputs": [],
   "source": [
    "# We are Appending Data to CSV\n",
    "# a+-->Append\n",
    "\n",
    "with open('AmazonDataset.csv', 'a+', newline='',encoding='UTF8') as f:\n",
    "    writer=csv.writer(f)\n",
    "    writer.writerow(data)"
   ]
  },
  {
   "cell_type": "code",
   "execution_count": 1,
   "id": "bdf12cc3-5164-4162-bec1-ffa2beb0c09f",
   "metadata": {},
   "outputs": [],
   "source": [
    "# Automating this process\n",
    "\n",
    "def ckeck_price():\n",
    "    URL=\"https://www.amazon.com/Sew-Butiful-Stuffed-Animals-Plushies/dp/B0B1YQMP6R/ref=sxin_16_pa_sp_search_thematic_sspa?content-id=amzn1.sym.76d54fcc-2362-404d-ab9b-b0653e2b2239%3Aamzn1.sym.76d54fcc-2362-404d-ab9b-b0653e2b2239&crid=13N25ZNK17ET9&cv_ct_cx=panda%2Btoy&dib=eyJ2IjoiMSJ9.x4QW2PlM6ttGQjJ7EbNcMVvKEpDGGq1Pe4W6MfUJ_2FkGTXZt7qyPnNfq30pA03wcozDxeZM8aFNbpEh00Cnkg.qNRFjA_taYQLSHppqZwrL_sfuPEPieRfL-hJAvzphfA&dib_tag=se&keywords=panda%2Btoy&pd_rd_i=B0B1YQMP6R&pd_rd_r=e94745c4-9805-4ea0-ba2c-8a31be86aa45&pd_rd_w=3OKUY&pd_rd_wg=pk0Oy&pf_rd_p=76d54fcc-2362-404d-ab9b-b0653e2b2239&pf_rd_r=1N81DZ3AFK0YAGP7T1TF&qid=1730934555&sbo=RZvfv%2F%2FHxDF%2BO5021pAnSA%3D%3D&sprefix=panda%2Btoy%2Caps%2C94&sr=1-2-6024b2a3-78e4-4fed-8fed-e1613be3bcce-spons&sp_csd=d2lkZ2V0TmFtZT1zcF9zZWFyY2hfdGhlbWF0aWM&th=1\"\n",
    "\n",
    "    headers= {\"User-Agent\": \"Mozilla/5.0 (Windows NT 10.0; Win64; x64) AppleWebKit/537.36 (KHTML, like Gecko) Chrome/78.0.3904.108 Safari/537.36\", \"Accept-Encoding\":\"gzip, deflate\", \"Accept\":\"text/html,application/xhtml+xml,application/xml;q=0.9,*/*;q=0.8\", \"DNT\":\"1\",\"Connection\":\"close\", \"Upgrade-Insecure-Requests\":\"1\"}\n",
    "    \n",
    "    page = requests.get(URL, headers=headers)\n",
    "    \n",
    "    soup1 = BeautifulSoup(page.content, \"html.parser\")\n",
    "    #print(soup1.prettify()[:1000000])\n",
    "    \n",
    "    title= soup1.find(id='productTitle').get_text(strip=True)\n",
    "    price_symbol = soup1.find(class_='a-price-symbol').get_text(strip=True)\n",
    "    price_whole = soup1.find(class_='a-price-whole').get_text(strip=True)\n",
    "    price_fraction = soup1.find(class_='a-price-fraction').get_text(strip=True)\n",
    "    price = f'{price_symbol}{price_whole}{price_fraction}'\n",
    "\n",
    "    import datetime\n",
    "    today = datetime.date.today()\n",
    "\n",
    "    import csv\n",
    "    header= ['Title','Price','Data']\n",
    "    data= [title,price,today]\n",
    "\n",
    "    with open('AmazonDataset.csv', 'a+', newline='',encoding='UTF8') as f:\n",
    "        writer=csv.writer(f)\n",
    "        writer.writerow(data)\n",
    "    if(price < 10):\n",
    "        send_mail()\n"
   ]
  },
  {
   "cell_type": "code",
   "execution_count": null,
   "id": "50085d8c-b1ed-467c-bdf4-39ebb3de4062",
   "metadata": {},
   "outputs": [],
   "source": [
    "#Setting up Timer-->Time Library\n",
    "\n",
    "while(True):\n",
    "    ckeck_price()\n",
    "    time.sleep(86400)"
   ]
  },
  {
   "cell_type": "code",
   "execution_count": null,
   "id": "2628117d-373d-4ca3-9da7-9b21b436446d",
   "metadata": {},
   "outputs": [],
   "source": [
    "import pandas as pd\n",
    "df= pd.read_csv(r'C:\\Users\\kedugga\\AmazonDataset.csv')\n",
    "print(df)"
   ]
  },
  {
   "cell_type": "code",
   "execution_count": 20,
   "id": "c7f8d614-fe42-4054-9360-179598fb33e6",
   "metadata": {},
   "outputs": [],
   "source": [
    "import smtplib\n",
    "def send_mail():\n",
    "    server = smtplib.SMTP_SSL('keerthana.ln501@gmail.com',465)\n",
    "    server.ehlo()\n",
    "    #server.starttls()\n",
    "    server.ehlo()\n",
    "    server.login('keerthana.ln501@gmail.com','***************')\n",
    "    \n",
    "    subject = \"The TeddyBear you want is less than $11.99! Now is your chance to buy!\"\n",
    "    body = \"Keerthana, This is the moment you have been waiting for. Now is your chance to pick up the shirt of your dreams. Don't mess it up! Link here:https://www.amazon.com/Sew-Butiful-Stuffed-Animals-Plushies/dp/B0B1YQMP6R/ref=sxin_16_pa_sp_search_thematic_sspa?content-id=amzn1.sym.76d54fcc-2362-404d-ab9b-b0653e2b2239%3Aamzn1.sym.76d54fcc-2362-404d-ab9b-b0653e2b2239&crid=13N25ZNK17ET9&cv_ct_cx=panda%2Btoy&dib=eyJ2IjoiMSJ9.x4QW2PlM6ttGQjJ7EbNcMVvKEpDGGq1Pe4W6MfUJ_2FkGTXZt7qyPnNfq30pA03wcozDxeZM8aFNbpEh00Cnkg.qNRFjA_taYQLSHppqZwrL_sfuPEPieRfL-hJAvzphfA&dib_tag=se&keywords=panda%2Btoy&pd_rd_i=B0B1YQMP6R&pd_rd_r=e94745c4-9805-4ea0-ba2c-8a31be86aa45&pd_rd_w=3OKUY&pd_rd_wg=pk0Oy&pf_rd_p=76d54fcc-2362-404d-ab9b-b0653e2b2239&pf_rd_r=1N81DZ3AFK0YAGP7T1TF&qid=1730934555&sbo=RZvfv%2F%2FHxDF%2BO5021pAnSA%3D%3D&sprefix=panda%2Btoy%2Caps%2C94&sr=1-2-6024b2a3-78e4-4fed-8fed-e1613be3bcce-spons&sp_csd=d2lkZ2V0TmFtZT1zcF9zZWFyY2hfdGhlbWF0aWM&th=1\"\n",
    "\n",
    "   \n",
    "    msg = f\"Subject: {subject}\\n\\n{body}\"\n",
    "    \n",
    "    server.sendmail(\n",
    "        'keerthana.ln501@gmail.com',\n",
    "        msg\n",
    "     \n",
    "    )"
   ]
  },
  {
   "cell_type": "code",
   "execution_count": null,
   "id": "d9f7f4d0-4ed7-4c5e-89eb-ecbb8889e921",
   "metadata": {},
   "outputs": [],
   "source": []
  },
  {
   "cell_type": "code",
   "execution_count": null,
   "id": "e43941ff-0c87-40eb-9ed8-f88e11fde32b",
   "metadata": {},
   "outputs": [],
   "source": []
  },
  {
   "cell_type": "code",
   "execution_count": null,
   "id": "eb55b390-e430-43a3-80ac-bd4d9263db75",
   "metadata": {},
   "outputs": [],
   "source": []
  },
  {
   "cell_type": "code",
   "execution_count": null,
   "id": "c47abff6-519e-4561-8db2-359eabcfb275",
   "metadata": {},
   "outputs": [],
   "source": []
  },
  {
   "cell_type": "code",
   "execution_count": null,
   "id": "f8ffbf14-76ea-4d07-9918-9bb3bbefdf7f",
   "metadata": {},
   "outputs": [],
   "source": []
  },
  {
   "cell_type": "code",
   "execution_count": null,
   "id": "fbbce6d2-3540-4a58-b1dc-af64baf9715b",
   "metadata": {},
   "outputs": [],
   "source": []
  },
  {
   "cell_type": "code",
   "execution_count": null,
   "id": "bb39d863-011d-4e83-97c6-a58b7cad8919",
   "metadata": {},
   "outputs": [],
   "source": []
  },
  {
   "cell_type": "code",
   "execution_count": null,
   "id": "1a9c2b41-0504-4c6e-9d84-7d78efc2124b",
   "metadata": {},
   "outputs": [],
   "source": []
  },
  {
   "cell_type": "code",
   "execution_count": null,
   "id": "f921e30a-14e9-48d4-b702-f0fbae972609",
   "metadata": {},
   "outputs": [],
   "source": []
  },
  {
   "cell_type": "code",
   "execution_count": null,
   "id": "9ab4decd-0bbf-4f1b-a9b6-d72f7dc9d9a9",
   "metadata": {},
   "outputs": [],
   "source": []
  },
  {
   "cell_type": "code",
   "execution_count": null,
   "id": "0627289c-15ad-481b-b1a6-e0d2fa97f495",
   "metadata": {},
   "outputs": [],
   "source": []
  },
  {
   "cell_type": "code",
   "execution_count": null,
   "id": "1511332f-f54c-4bb4-bfa6-0c93f55f7d9b",
   "metadata": {},
   "outputs": [],
   "source": []
  },
  {
   "cell_type": "code",
   "execution_count": null,
   "id": "d223fcfd-6634-472d-ad8e-0a0c4aa55cb5",
   "metadata": {},
   "outputs": [],
   "source": []
  },
  {
   "cell_type": "code",
   "execution_count": null,
   "id": "f550181f-c0ac-4c77-acb7-2dd002f441fa",
   "metadata": {},
   "outputs": [],
   "source": []
  },
  {
   "cell_type": "code",
   "execution_count": null,
   "id": "37545605-393f-4d6f-8b22-d1e233d503b0",
   "metadata": {},
   "outputs": [],
   "source": []
  },
  {
   "cell_type": "code",
   "execution_count": null,
   "id": "ab6cee8d-9e46-430f-83de-e129d3b8e6f1",
   "metadata": {},
   "outputs": [],
   "source": []
  },
  {
   "cell_type": "code",
   "execution_count": null,
   "id": "7e74ce09-3f11-440d-aabe-692d1e103d4d",
   "metadata": {},
   "outputs": [],
   "source": []
  },
  {
   "cell_type": "code",
   "execution_count": null,
   "id": "57f0d223-4e3e-4d0c-9032-1e598441f4a1",
   "metadata": {},
   "outputs": [],
   "source": []
  }
 ],
 "metadata": {
  "kernelspec": {
   "display_name": "Python 3 (ipykernel)",
   "language": "python",
   "name": "python3"
  },
  "language_info": {
   "codemirror_mode": {
    "name": "ipython",
    "version": 3
   },
   "file_extension": ".py",
   "mimetype": "text/x-python",
   "name": "python",
   "nbconvert_exporter": "python",
   "pygments_lexer": "ipython3",
   "version": "3.12.7"
  }
 },
 "nbformat": 4,
 "nbformat_minor": 5
}
